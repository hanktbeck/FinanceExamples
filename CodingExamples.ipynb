{
 "cells": [
  {
   "cell_type": "markdown",
   "id": "398a7435-c149-453b-974a-6fd13f14e180",
   "metadata": {},
   "source": [
    "# Financial Modeling Samples\n",
    "## Henry Beck\n",
    "\n",
    "### This file\n",
    "This notebook is intended to include some quick examples of Monte Carlo methods used in financial modeling implemented with minimal use of outside libraries. \n",
    "\n",
    "Examples represent original work done in the context of computational finance coursework"
   ]
  },
  {
   "cell_type": "markdown",
   "id": "db42f0ee-6347-4b1d-b92a-519b41214f22",
   "metadata": {},
   "source": [
    "### IPMsolver.py\n",
    "\n",
    "'IPMsolver.py' is a nascent implementation of the interior points method for asset allocation optimization problems.\n",
    "It is rougher than my best work since I am still early in the process of development, but I include it as I want to showcase some finance related python examples that involved at least basic OOP. Originally this project was motivated, by the desire to better understand and efficiently solve semi-definite programs as SDP can allow for the simulataneous inclusion multiple coherent risk measures and the tracking of benchmarks when constructing an optimized portfolio. Currently, I have only built it out to solve the special case of a quadratic program. Unfortunately, I am uncertain that I will complete this project as 6 days ago CVXPY added semi-definite program support using Clarabel, an opensource interior points method solver."
   ]
  },
  {
   "cell_type": "markdown",
   "id": "8d4ea0e1-8e67-4d58-b40b-0f066b170233",
   "metadata": {},
   "source": [
    "# Examples below"
   ]
  },
  {
   "cell_type": "code",
   "execution_count": 10,
   "id": "d46883f0-5c88-40fe-b9bc-24d9babdecdb",
   "metadata": {},
   "outputs": [],
   "source": [
    "import numpy as np\n",
    "from matplotlib import pyplot as plt"
   ]
  },
  {
   "cell_type": "markdown",
   "id": "9306bfd6-2a0a-4955-8335-6f961f9b9ed3",
   "metadata": {},
   "source": [
    "## Monte Carlo Simulations\n",
    "Below is the simulation of the value of an underlying asset in order to determine the value of discretely monitored Asian call option. First simulating an option which calculates payoff using a geometric mean, then simulating an option with idential parameters but with payoff calculated using an arithmetic mean. I will apply the antithetic variables method for variance reduction to the geometric option, and then use the estimated value of the geometric option as a control variate to reduce variance for the arithmetic option.\n",
    "\n",
    "The parameters for the option we will be using are \n",
    "$$\\begin{aligned}\n",
    "S_0 &= 50,\\: K = 50, \\\\\n",
    "T &= 1,\\: n = 5 \\\\\n",
    "r &= 0.05,\\: \\sigma = 0.2\n",
    "\\end{aligned}$$\n",
    "\n",
    "\n"
   ]
  },
  {
   "cell_type": "code",
   "execution_count": 4,
   "id": "2a6b8bc8-eb96-47a6-a2ec-74ab35a8c045",
   "metadata": {},
   "outputs": [],
   "source": [
    "# Helper function to generate normally distributed random variables using Box-Mueller\n",
    "pi = np.pi\n",
    "def BoxMull_Normal(n):\n",
    "    Z = np.random.uniform(0,1,size =n)\n",
    "    V = -2*np.log(1-Z)\n",
    "    W = np.random.uniform(0,2*pi, size = n)\n",
    "    x = np.sqrt(V)*np.cos(W)\n",
    "    y = np.sqrt(V)*np.sin(W)\n",
    "    return x,y"
   ]
  },
  {
   "cell_type": "code",
   "execution_count": 5,
   "id": "71403e9b-1213-48d0-a160-0a6074918be5",
   "metadata": {},
   "outputs": [],
   "source": [
    "S0 = 50\n",
    "K = 50\n",
    "T = 1\n",
    "n = 5\n",
    "r = 0.05\n",
    "sig = 0.2\n",
    "\n",
    "N = 100000\n",
    "z = 1.96"
   ]
  },
  {
   "cell_type": "code",
   "execution_count": 6,
   "id": "06270f8b-4c03-4865-8712-ef9ece9b3dba",
   "metadata": {},
   "outputs": [],
   "source": [
    "S = np.zeros((int(2*N),n+1))\n",
    "S[:,0] = S0\n",
    "dt = T/n"
   ]
  },
  {
   "cell_type": "markdown",
   "id": "e43041b4-46df-4650-b7b4-41c788e5bb9f",
   "metadata": {},
   "source": [
    "### Simulation for the geometric mean"
   ]
  },
  {
   "cell_type": "code",
   "execution_count": 8,
   "id": "e3dd3d19-c82a-4d78-bc0b-704311f343d8",
   "metadata": {},
   "outputs": [
    {
     "name": "stdout",
     "output_type": "stream",
     "text": [
      "Our estimate: 3.250613769369383\n",
      "Confidence Interval\n",
      " Low: 3.23681\n",
      " High: 3.26442\n",
      "Our CI half length: 0.013806159851738761\n"
     ]
    }
   ],
   "source": [
    "# simulating the underlying asset\n",
    "S = np.zeros((int(N),n+1))\n",
    "Sy = np.zeros((int(N),n+1))\n",
    "S[:,0] = S0\n",
    "Sy[:,0] = S0\n",
    "#rho = -0.5\n",
    "#Sigma = np.array([[sig ** 2, rho * sig**2], [rho * sig**2, sig ** 2]])\n",
    "#A = np.linalg.cholesky(Sigma)\n",
    "\n",
    "\n",
    "for j in range(int(N)):\n",
    "    Z = BoxMull_Normal(n+1)[0]\n",
    "    #Zy = BoxMull_Normal(n+1)[1]\n",
    "    #Z = np.random.randn(n)\n",
    "    #Zy = np.random.randn(n)\n",
    "    for i in range(1,n+1):\n",
    "         #Z = BoxMull_Normal(1)\n",
    "         #Z = A@Z\n",
    "         s_increment = (r - sig ** 2 / 2) * dt + sig * np.sqrt(dt) * Z[i]\n",
    "         S[j,i] = S[j,i-1]*np.exp(s_increment)\n",
    "         sy_increment = (r - sig ** 2 / 2) * dt + sig * np.sqrt(dt) * -Z[i]\n",
    "         Sy[j,i] = Sy[j,i-1]*np.exp(sy_increment)\n",
    "\n",
    "# Geometric Mean\n",
    "S_g = S[:,1:].prod(axis = 1)**(1/n)\n",
    "S_gy = Sy[:,1:].prod(axis = 1)**(1/n)\n",
    "\n",
    "# Max mean or 0\n",
    "max_S_0 = S_g-K\n",
    "max_S_0 = ((S_g-K) > 0)*(S_g-K)\n",
    "max_Sy_0 = ((S_gy-K) > 0)*(S_gy-K)\n",
    "\n",
    "# Calculate the samples of X\n",
    "X = np.exp(-r*T) * max_S_0\n",
    "Y = np.exp(-r*T) * max_Sy_0\n",
    "#Y = -X\n",
    "avg = (X+Y)/2\n",
    "\n",
    "# estimate\n",
    "theta = np.mean(avg)\n",
    "var = np.var(avg)\n",
    "err_anti = z*np.sqrt(var / (N))\n",
    "std_B = np.std(avg)\n",
    "\n",
    "CI_up  = theta + err_anti\n",
    "CI_low = theta - err_anti\n",
    "\n",
    "print(\"Our estimate: {}\".format(theta))\n",
    "print(\"Confidence Interval\\n Low: {:.5f}\\n High: {:.5f}\".format(CI_low,CI_up))\n",
    "print(\"Our CI half length: {}\".format(err_anti))"
   ]
  },
  {
   "cell_type": "markdown",
   "id": "343e0e81-7bd3-4d3c-bf0a-fa87002fef9e",
   "metadata": {},
   "source": [
    "### Arithmetic mean"
   ]
  },
  {
   "cell_type": "code",
   "execution_count": 9,
   "id": "3854a45b-ce23-4fa5-93f2-70efa36985e4",
   "metadata": {},
   "outputs": [
    {
     "name": "stdout",
     "output_type": "stream",
     "text": [
      "Our estimate: 3.364984096839246\n",
      "Confidence Interval\n",
      " Low: 3.36416\n",
      " High: 3.36581\n",
      "Our CI half length: 0.0008220782656019698\n"
     ]
    }
   ],
   "source": [
    "N = 100000\n",
    "S = np.zeros((int(2*N),n+1))\n",
    "S[:,0] = S0\n",
    "dt = T/n\n",
    "\n",
    "# simulating the underlying asset\n",
    "for j in range(int(2*N)):\n",
    "    Z = BoxMull_Normal(n+1)[0]\n",
    "    #Z = np.random.randn(n)\n",
    "    for i in range(1,n+1):\n",
    "         s_increment = (r - sig ** 2 / 2) * dt + sig * np.sqrt(dt) * Z[i]\n",
    "         S[j,i] = S[j,i-1]*np.exp(s_increment)\n",
    "\n",
    "# Arithmetic Mean\n",
    "S_a = S[:,1:].sum(axis = 1)*(1/n)\n",
    "\n",
    "# Max mean or 0\n",
    "max_S_0 = S_a-K\n",
    "max_S_0 = ((S_a-K) > 0)*(S_a-K)\n",
    "\n",
    "# Calculate the samples of X\n",
    "Xa = np.exp(-r*T) * max_S_0\n",
    "\n",
    "# Geometric Mean\n",
    "S_g = S[:,1:].prod(axis = 1)**(1/n)\n",
    "\n",
    "# Max mean or 0\n",
    "max_S_0 = S_g-K\n",
    "max_S_0 = ((S_g-K) > 0)*(S_g-K)\n",
    "\n",
    "# Calculate the samples of X\n",
    "Xg = np.exp(-r*T) * max_S_0\n",
    "\n",
    "# Ctrl Variate\n",
    "mu_g = np.mean(Xg)\n",
    "Xg_var = np.var(Xg)\n",
    "Cov = np.cov(Xa,Xg)[0,1]\n",
    "c = -Cov/Xg_var\n",
    "Ctrl_Variate = c*(Xg - mu_g)\n",
    "\n",
    "\n",
    "estimator = Xa + Ctrl_Variate\n",
    "theta = np.mean(estimator)\n",
    "var = np.var(estimator)\n",
    "err_ctrl = z*np.sqrt(var / (N))\n",
    "\n",
    "\n",
    "\n",
    "CI_up  = theta + err_ctrl\n",
    "CI_low = theta - err_ctrl\n",
    "\n",
    "print(\"Our estimate: {}\".format(theta))\n",
    "print(\"Confidence Interval\\n Low: {:.5f}\\n High: {:.5f}\".format(CI_low,CI_up))\n",
    "print(\"Our CI half length: {}\".format(err_ctrl))"
   ]
  },
  {
   "cell_type": "markdown",
   "id": "3a51f576-4770-401b-8fd0-8c2f8691c337",
   "metadata": {},
   "source": [
    "## Simulation of a Jump Diffusion process\n",
    "Here I will simulate $X_t$ and $Y_t$. These are two jump diffusion processes governed by\n",
    "\n",
    "$$\\begin{aligned}\n",
    "\\textrm{d}X_t &= \\mu_1 X_t\\,\\textrm{d}t + \\sigma_1 X_t\\,\\textrm{d}W^{(1)}_t + X_t\\,\\textrm{d}J_t \\\\\n",
    "\\textrm{d}Y_t &= \\mu_2 Y_t\\,\\textrm{d}t + \\sigma_2 Y_t\\,\\textrm{d}W^{(2)}_t + Y_t\\,\\textrm{d}J_t\n",
    "\\end{aligned}$$\n",
    "\n",
    "where $W^{(1)}_t$ and $W^{(2)}_t$ are two i.i.d. Brownian motions and\n",
    "\n",
    "$$J_t = \\sum_{i = 1}^{N_t}\\left(e^{X_i} - 1\\right)$$\n",
    "\n",
    "where $N_t\\sim\\textrm{Poisson}(\\lambda)$ and the $X_i\\sim N(0, 1)$ are i.i.d. standard normals. Note they are using the same jump process but have independent Geometric Brownian Motion paths."
   ]
  },
  {
   "cell_type": "code",
   "execution_count": 17,
   "id": "f01dad87-8024-44f1-a20e-50658af294b4",
   "metadata": {},
   "outputs": [
    {
     "data": {
      "text/plain": [
       "[<matplotlib.lines.Line2D at 0x22ef30664a0>,\n",
       " <matplotlib.lines.Line2D at 0x22ef30664d0>]"
      ]
     },
     "execution_count": 17,
     "metadata": {},
     "output_type": "execute_result"
    },
    {
     "data": {
      "image/png": "[encoded data removed]",
      "text/plain": [
       "<Figure size 640x480 with 1 Axes>"
      ]
     },
     "metadata": {},
     "output_type": "display_data"
    }
   ],
   "source": [
    "mu_1  = 0.1\n",
    "mu_2  = 0.1\n",
    "sig_1 = 0.1\n",
    "sig_2 = 0.1\n",
    "lam   = 0.2\n",
    "X_0   = 1\n",
    "Y_0   = 1\n",
    "\n",
    "T = 5\n",
    "t_0 = 0\n",
    "n = 100\n",
    "dt = (T - t_0)/100\n",
    "\n",
    "lnX = np.zeros(n)\n",
    "lnY = np.zeros(n)\n",
    "lnX[0] = X_0\n",
    "lnY[0] = Y_0\n",
    "\n",
    "for i in range(1,n):\n",
    "    num_jumps = np.random.poisson(lam*dt)\n",
    "    jum_mag = np.random.randn(num_jumps)\n",
    "    z = np.random.randn(2) \n",
    "    dx = (mu_1 - sig_1**2/2)*dt +sig_1*np.sqrt(dt)*z[0]\n",
    "    dy = (mu_2 - sig_2**2/2)*dt +sig_2*np.sqrt(dt)*z[1]\n",
    "    lnX[i] = lnX[i-1] + dx\n",
    "    lnY[i] = lnY[i-1] + dy\n",
    "    for k in range(num_jumps):\n",
    "        lnX[i] += jum_mag[k]\n",
    "        lnY[i] += jum_mag[k]\n",
    "\n",
    "X = np.exp(lnX)\n",
    "Y = np.exp(lnY)\n",
    "\n",
    "plt.plot(np.linspace(t_0,T,n),X,np.linspace(t_0,T,n),Y)"
   ]
  },
  {
   "cell_type": "markdown",
   "id": "716c2a52-cfad-4e83-8572-cf04f25591da",
   "metadata": {},
   "source": [
    "##"
   ]
  }
 ],
 "metadata": {
  "kernelspec": {
   "display_name": "Python 3 (ipykernel)",
   "language": "python",
   "name": "python3"
  },
  "language_info": {
   "codemirror_mode": {
    "name": "ipython",
    "version": 3
   },
   "file_extension": ".py",
   "mimetype": "text/x-python",
   "name": "python",
   "nbconvert_exporter": "python",
   "pygments_lexer": "ipython3",
   "version": "3.10.6"
  }
 },
 "nbformat": 4,
 "nbformat_minor": 5
}
